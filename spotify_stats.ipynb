{
 "cells": [
  {
   "cell_type": "code",
   "execution_count": 1,
   "metadata": {},
   "outputs": [],
   "source": [
    "import os\n",
    "import spotipy\n",
    "import spotipy.util as util\n",
    "from spotipy.oauth2 import SpotifyClientCredentials\n",
    "import plotly.express as px\n"
   ]
  },
  {
   "cell_type": "code",
   "execution_count": 2,
   "metadata": {},
   "outputs": [],
   "source": [
    "client_id = os.getenv('SPOTIPY_CLIENT_ID')\n",
    "client_secret = os.getenv('SPOTIPY_CLIENT_SECRET')\n",
    "redirect_uri = os.getenv('SPOTIPY_REDIRECT_URI')\n",
    "username = os.getenv('SPOTIPY_USERNAME')"
   ]
  },
  {
   "cell_type": "code",
   "execution_count": 3,
   "metadata": {},
   "outputs": [],
   "source": [
    "client_credentials_manager = SpotifyClientCredentials(\n",
    "    client_id=client_id,\n",
    "    client_secret=client_secret\n",
    ")\n",
    "\n",
    "scope = 'user-library-read playlist-read-private'\n",
    "\n",
    "try:\n",
    "    token = util.prompt_for_user_token(username, scope,client_id=client_id, client_secret=client_secret, redirect_uri=redirect_uri)\n",
    "    sp=spotipy.Spotify(auth= token)\n",
    "except:\n",
    "    print('Token is not accesible for ' + username)"
   ]
  },
  {
   "cell_type": "code",
   "execution_count": 4,
   "metadata": {},
   "outputs": [],
   "source": [
    "import pandas as pd\n",
    "import numpy as np\n",
    "\n",
    "def convert_to_minutes_seconds(ms):\n",
    "    seconds = ms // 1000\n",
    "    minutes = int(seconds // 60)\n",
    "    seconds = seconds % 60\n",
    "    return f\"{minutes}m{seconds}s\"\n",
    "\n",
    "class SpotifyAPI:\n",
    "    def __init__(self, username, client_id, client_secret, redirect_uri):\n",
    "        scope = \"user-library-read playlist-read-private\"\n",
    "        self.username = username\n",
    "\n",
    "        try:\n",
    "            token = util.prompt_for_user_token(username, scope,client_id=client_id, client_secret=client_secret, redirect_uri=redirect_uri)\n",
    "            self.sp = spotipy.Spotify(auth = token)\n",
    "        except:\n",
    "            raise ValueError(f\"Token is not accesible for {username}\")\n",
    "\n",
    "    def get_playlist_audio_features(self, playlist_id):\n",
    "        offset = 0\n",
    "        songs = []\n",
    "        items = []\n",
    "        ids = []\n",
    "        while True:\n",
    "            content = self.sp.user_playlist_tracks(self.username, playlist_id, fields=None, limit=100, offset=offset, market=None)\n",
    "            songs += content[\"items\"]\n",
    "            if content[\"next\"] is not None:\n",
    "                offset += 100\n",
    "            else:\n",
    "                break\n",
    "\n",
    "        for i in songs:\n",
    "            ids.append(i[\"track\"][\"id\"])\n",
    "\n",
    "        index = 0\n",
    "        audio_features = []\n",
    "        while index < len(ids):\n",
    "            audio_features += self.sp.audio_features(ids[index:index + 50])\n",
    "            index += 50\n",
    "\n",
    "        features_list = []\n",
    "        for features in audio_features:\n",
    "            features_list.append([features[\"energy\"], features[\"liveness\"],\n",
    "                                features[\"tempo\"], features[\"speechiness\"],\n",
    "                                features[\"acousticness\"], features[\"instrumentalness\"],\n",
    "                                features[\"time_signature\"], features[\"danceability\"],\n",
    "                                features[\"key\"], features[\"duration_ms\"],\n",
    "                                features[\"loudness\"], features[\"valence\"],\n",
    "                                features[\"mode\"], features[\"type\"],\n",
    "                                features[\"uri\"]])\n",
    "\n",
    "        df = pd.DataFrame(features_list, columns=[\"energy\", \"liveness\",\n",
    "                                                \"tempo\", \"speechiness\",\n",
    "                                                \"acousticness\", \"instrumentalness\",\n",
    "                                                \"time_signature\", \"danceability\",\n",
    "                                                \"key\", \"duration_ms\", \"loudness\",\n",
    "                                                \"valence\", \"mode\", \"type\", \"uri\"])\n",
    "        df['duration_str'] = df['duration_ms'].apply(convert_to_minutes_seconds)\n",
    "\n",
    "        def get_track_name(uri):\n",
    "            return self.sp.track(uri)['name']\n",
    "\n",
    "        def get_artist_name(uri):\n",
    "            artist = self.sp.track(uri)['artists']\n",
    "            names = [artist[x]['name'] for x,_ in enumerate(artist)]\n",
    "            artists = ', '.join(names)\n",
    "            return artists\n",
    "\n",
    "        df['music_name'] = df['uri'].apply(get_track_name)\n",
    "        df['artist_name'] = df['uri'].apply(get_artist_name)\n",
    "        df['mode_str'] = np.where(df['mode'] == 1, 'Major', 'Minor')\n",
    "        df['key_str'] = np.where(df['key'] == 0, 'C', np.where(df['key'] == 1, 'C#/Db',\n",
    "                                                            np.where(df['key'] == 2, 'D',\n",
    "                                                                    np.where(df['key'] == 3, 'D#/Eb',\n",
    "                                                                            np.where(df['key'] == 4, 'E',\n",
    "                                                                                    np.where(df['key'] == 5, 'F',\n",
    "                                                                                            np.where(df['key'] == 6, 'F#/Gb',\n",
    "                                                                                                    np.where(df['key'] == 7, 'G',\n",
    "                                                                                                            np.where(df['key'] == 8, 'G#/Ab',\n",
    "                                                                                                                    np.where(df['key'] == 9, 'A',\n",
    "                                                                                                                            np.where(df['key'] == 10, 'A#/Bb',\n",
    "                                                                                                                                    np.where(df['key'] == 11, 'B', 'None'))))))))))))\n",
    "\n",
    "        df = df[[\n",
    "            'energy',\n",
    "            'liveness',\n",
    "            'speechiness',\n",
    "            'acousticness',\n",
    "            'instrumentalness',\n",
    "            'time_signature',\n",
    "            'danceability',\n",
    "            'loudness',\n",
    "            'valence',\n",
    "            'key',\n",
    "            \"key_str\",\n",
    "            'mode',\n",
    "            \"mode_str\",\n",
    "            'tempo',\n",
    "            'duration_ms',\n",
    "            'duration_str',\n",
    "            'music_name',\n",
    "            'artist_name',\n",
    "        ]]\n",
    "        return df\n"
   ]
  },
  {
   "cell_type": "code",
   "execution_count": 5,
   "metadata": {},
   "outputs": [
    {
     "data": {
      "text/html": [
       "<div>\n",
       "<style scoped>\n",
       "    .dataframe tbody tr th:only-of-type {\n",
       "        vertical-align: middle;\n",
       "    }\n",
       "\n",
       "    .dataframe tbody tr th {\n",
       "        vertical-align: top;\n",
       "    }\n",
       "\n",
       "    .dataframe thead th {\n",
       "        text-align: right;\n",
       "    }\n",
       "</style>\n",
       "<table border=\"1\" class=\"dataframe\">\n",
       "  <thead>\n",
       "    <tr style=\"text-align: right;\">\n",
       "      <th></th>\n",
       "      <th>energy</th>\n",
       "      <th>liveness</th>\n",
       "      <th>speechiness</th>\n",
       "      <th>acousticness</th>\n",
       "      <th>instrumentalness</th>\n",
       "      <th>time_signature</th>\n",
       "      <th>danceability</th>\n",
       "      <th>loudness</th>\n",
       "      <th>valence</th>\n",
       "      <th>key</th>\n",
       "      <th>key_str</th>\n",
       "      <th>mode</th>\n",
       "      <th>mode_str</th>\n",
       "      <th>tempo</th>\n",
       "      <th>duration_ms</th>\n",
       "      <th>duration_str</th>\n",
       "      <th>music_name</th>\n",
       "      <th>artist_name</th>\n",
       "    </tr>\n",
       "  </thead>\n",
       "  <tbody>\n",
       "    <tr>\n",
       "      <th>0</th>\n",
       "      <td>0.620</td>\n",
       "      <td>0.2070</td>\n",
       "      <td>0.2870</td>\n",
       "      <td>0.4890</td>\n",
       "      <td>0.000000</td>\n",
       "      <td>4</td>\n",
       "      <td>0.737</td>\n",
       "      <td>-6.172</td>\n",
       "      <td>0.536</td>\n",
       "      <td>8</td>\n",
       "      <td>G#/Ab</td>\n",
       "      <td>1</td>\n",
       "      <td>Major</td>\n",
       "      <td>111.984</td>\n",
       "      <td>171471</td>\n",
       "      <td>2m51s</td>\n",
       "      <td>Fragrância - Remix (feat. PL Quest)</td>\n",
       "      <td>MD Chefe, L7NNON, Offlei Sounds, PL Quest</td>\n",
       "    </tr>\n",
       "    <tr>\n",
       "      <th>1</th>\n",
       "      <td>0.446</td>\n",
       "      <td>0.1310</td>\n",
       "      <td>0.0477</td>\n",
       "      <td>0.2640</td>\n",
       "      <td>0.000000</td>\n",
       "      <td>4</td>\n",
       "      <td>0.746</td>\n",
       "      <td>-7.967</td>\n",
       "      <td>0.492</td>\n",
       "      <td>8</td>\n",
       "      <td>G#/Ab</td>\n",
       "      <td>1</td>\n",
       "      <td>Major</td>\n",
       "      <td>126.025</td>\n",
       "      <td>152452</td>\n",
       "      <td>2m32s</td>\n",
       "      <td>Tiffany</td>\n",
       "      <td>MD Chefe, Offlei Sounds</td>\n",
       "    </tr>\n",
       "    <tr>\n",
       "      <th>2</th>\n",
       "      <td>0.318</td>\n",
       "      <td>0.1380</td>\n",
       "      <td>0.3670</td>\n",
       "      <td>0.1280</td>\n",
       "      <td>0.000002</td>\n",
       "      <td>4</td>\n",
       "      <td>0.896</td>\n",
       "      <td>-12.411</td>\n",
       "      <td>0.480</td>\n",
       "      <td>9</td>\n",
       "      <td>A</td>\n",
       "      <td>1</td>\n",
       "      <td>Major</td>\n",
       "      <td>119.964</td>\n",
       "      <td>152052</td>\n",
       "      <td>2m32s</td>\n",
       "      <td>Rei Lacoste</td>\n",
       "      <td>MD Chefe, DomLaike, Offlei Sounds</td>\n",
       "    </tr>\n",
       "    <tr>\n",
       "      <th>3</th>\n",
       "      <td>0.453</td>\n",
       "      <td>0.1020</td>\n",
       "      <td>0.1770</td>\n",
       "      <td>0.1910</td>\n",
       "      <td>0.005810</td>\n",
       "      <td>4</td>\n",
       "      <td>0.876</td>\n",
       "      <td>-8.578</td>\n",
       "      <td>0.313</td>\n",
       "      <td>1</td>\n",
       "      <td>C#/Db</td>\n",
       "      <td>1</td>\n",
       "      <td>Major</td>\n",
       "      <td>118.043</td>\n",
       "      <td>197030</td>\n",
       "      <td>3m17s</td>\n",
       "      <td>HB20 2 (LQ) - Bonus Track (feat. Flacko &amp; C'97)</td>\n",
       "      <td>MD Chefe, Rare G, Offlei Sounds, Flacko, C'97</td>\n",
       "    </tr>\n",
       "    <tr>\n",
       "      <th>4</th>\n",
       "      <td>0.645</td>\n",
       "      <td>0.0818</td>\n",
       "      <td>0.0609</td>\n",
       "      <td>0.3450</td>\n",
       "      <td>0.000057</td>\n",
       "      <td>4</td>\n",
       "      <td>0.759</td>\n",
       "      <td>-8.365</td>\n",
       "      <td>0.513</td>\n",
       "      <td>1</td>\n",
       "      <td>C#/Db</td>\n",
       "      <td>1</td>\n",
       "      <td>Major</td>\n",
       "      <td>109.916</td>\n",
       "      <td>164182</td>\n",
       "      <td>2m44s</td>\n",
       "      <td>Burberry</td>\n",
       "      <td>Offlei Sounds, MD Chefe, Kloe</td>\n",
       "    </tr>\n",
       "    <tr>\n",
       "      <th>5</th>\n",
       "      <td>0.382</td>\n",
       "      <td>0.0709</td>\n",
       "      <td>0.3110</td>\n",
       "      <td>0.4150</td>\n",
       "      <td>0.000000</td>\n",
       "      <td>4</td>\n",
       "      <td>0.945</td>\n",
       "      <td>-9.671</td>\n",
       "      <td>0.830</td>\n",
       "      <td>0</td>\n",
       "      <td>C</td>\n",
       "      <td>0</td>\n",
       "      <td>Minor</td>\n",
       "      <td>127.967</td>\n",
       "      <td>136875</td>\n",
       "      <td>2m16s</td>\n",
       "      <td>DAMN!</td>\n",
       "      <td>Ryu, the Runner, Luk The Real, Emitê Único, 6e...</td>\n",
       "    </tr>\n",
       "    <tr>\n",
       "      <th>6</th>\n",
       "      <td>0.551</td>\n",
       "      <td>0.1260</td>\n",
       "      <td>0.2710</td>\n",
       "      <td>0.0608</td>\n",
       "      <td>0.000000</td>\n",
       "      <td>4</td>\n",
       "      <td>0.866</td>\n",
       "      <td>-9.294</td>\n",
       "      <td>0.658</td>\n",
       "      <td>0</td>\n",
       "      <td>C</td>\n",
       "      <td>1</td>\n",
       "      <td>Major</td>\n",
       "      <td>139.212</td>\n",
       "      <td>138129</td>\n",
       "      <td>2m18s</td>\n",
       "      <td>Pura Adrenalina</td>\n",
       "      <td>Ryu, the Runner, dvrkness13</td>\n",
       "    </tr>\n",
       "    <tr>\n",
       "      <th>7</th>\n",
       "      <td>0.430</td>\n",
       "      <td>0.1830</td>\n",
       "      <td>0.2490</td>\n",
       "      <td>0.2590</td>\n",
       "      <td>0.000000</td>\n",
       "      <td>4</td>\n",
       "      <td>0.886</td>\n",
       "      <td>-9.155</td>\n",
       "      <td>0.519</td>\n",
       "      <td>8</td>\n",
       "      <td>G#/Ab</td>\n",
       "      <td>1</td>\n",
       "      <td>Major</td>\n",
       "      <td>134.048</td>\n",
       "      <td>163881</td>\n",
       "      <td>2m43s</td>\n",
       "      <td>Mantém o Pique</td>\n",
       "      <td>Ryu, the Runner, Neckklace, Salve Crazy</td>\n",
       "    </tr>\n",
       "  </tbody>\n",
       "</table>\n",
       "</div>"
      ],
      "text/plain": [
       "   energy  liveness  speechiness  acousticness  instrumentalness  \\\n",
       "0   0.620    0.2070       0.2870        0.4890          0.000000   \n",
       "1   0.446    0.1310       0.0477        0.2640          0.000000   \n",
       "2   0.318    0.1380       0.3670        0.1280          0.000002   \n",
       "3   0.453    0.1020       0.1770        0.1910          0.005810   \n",
       "4   0.645    0.0818       0.0609        0.3450          0.000057   \n",
       "5   0.382    0.0709       0.3110        0.4150          0.000000   \n",
       "6   0.551    0.1260       0.2710        0.0608          0.000000   \n",
       "7   0.430    0.1830       0.2490        0.2590          0.000000   \n",
       "\n",
       "   time_signature  danceability  loudness  valence  key key_str  mode  \\\n",
       "0               4         0.737    -6.172    0.536    8   G#/Ab     1   \n",
       "1               4         0.746    -7.967    0.492    8   G#/Ab     1   \n",
       "2               4         0.896   -12.411    0.480    9       A     1   \n",
       "3               4         0.876    -8.578    0.313    1   C#/Db     1   \n",
       "4               4         0.759    -8.365    0.513    1   C#/Db     1   \n",
       "5               4         0.945    -9.671    0.830    0       C     0   \n",
       "6               4         0.866    -9.294    0.658    0       C     1   \n",
       "7               4         0.886    -9.155    0.519    8   G#/Ab     1   \n",
       "\n",
       "  mode_str    tempo  duration_ms duration_str  \\\n",
       "0    Major  111.984       171471        2m51s   \n",
       "1    Major  126.025       152452        2m32s   \n",
       "2    Major  119.964       152052        2m32s   \n",
       "3    Major  118.043       197030        3m17s   \n",
       "4    Major  109.916       164182        2m44s   \n",
       "5    Minor  127.967       136875        2m16s   \n",
       "6    Major  139.212       138129        2m18s   \n",
       "7    Major  134.048       163881        2m43s   \n",
       "\n",
       "                                        music_name  \\\n",
       "0              Fragrância - Remix (feat. PL Quest)   \n",
       "1                                          Tiffany   \n",
       "2                                      Rei Lacoste   \n",
       "3  HB20 2 (LQ) - Bonus Track (feat. Flacko & C'97)   \n",
       "4                                         Burberry   \n",
       "5                                            DAMN!   \n",
       "6                                  Pura Adrenalina   \n",
       "7                                   Mantém o Pique   \n",
       "\n",
       "                                         artist_name  \n",
       "0          MD Chefe, L7NNON, Offlei Sounds, PL Quest  \n",
       "1                            MD Chefe, Offlei Sounds  \n",
       "2                  MD Chefe, DomLaike, Offlei Sounds  \n",
       "3      MD Chefe, Rare G, Offlei Sounds, Flacko, C'97  \n",
       "4                      Offlei Sounds, MD Chefe, Kloe  \n",
       "5  Ryu, the Runner, Luk The Real, Emitê Único, 6e...  \n",
       "6                        Ryu, the Runner, dvrkness13  \n",
       "7            Ryu, the Runner, Neckklace, Salve Crazy  "
      ]
     },
     "execution_count": 5,
     "metadata": {},
     "output_type": "execute_result"
    }
   ],
   "source": [
    "features = SpotifyAPI(username, client_id, client_secret, redirect_uri).get_playlist_audio_features('0QGaSSt6trrQM3Mo6LUCil')\n",
    "features"
   ]
  },
  {
   "cell_type": "code",
   "execution_count": 6,
   "metadata": {},
   "outputs": [],
   "source": [
    "liked_musics = SpotifyAPI(username, client_id, client_secret, redirect_uri).get_playlist_audio_features('751h3UgPuX8Q5WYubUbsdr')"
   ]
  },
  {
   "cell_type": "code",
   "execution_count": 7,
   "metadata": {},
   "outputs": [],
   "source": [
    "dopamine_flux = SpotifyAPI(username, client_id, client_secret, redirect_uri).get_playlist_audio_features('46UUqBAAPqmLwW9FMg3t3w')\n",
    "one_music = SpotifyAPI(username, client_id, client_secret, redirect_uri).get_playlist_audio_features('43eJMveAngLgS5zO7rb8jE')\n",
    "calm_trap = SpotifyAPI(username, client_id, client_secret, redirect_uri).get_playlist_audio_features('0QGaSSt6trrQM3Mo6LUCil')\n",
    "dopamine_flux_focus = SpotifyAPI(username, client_id, client_secret, redirect_uri).get_playlist_audio_features('7aZtjKLxA2z8cM2tpw522Q')\n",
    "indie_musics = SpotifyAPI(username, client_id, client_secret, redirect_uri).get_playlist_audio_features('23UP8JocqQArs7iY5bLZJF')\n",
    "phonk = SpotifyAPI(username, client_id, client_secret, redirect_uri).get_playlist_audio_features('265e9UI8kP6Om5bUvr32Qp')"
   ]
  },
  {
   "cell_type": "code",
   "execution_count": 8,
   "metadata": {},
   "outputs": [
    {
     "data": {
      "text/html": [
       "<div>\n",
       "<style scoped>\n",
       "    .dataframe tbody tr th:only-of-type {\n",
       "        vertical-align: middle;\n",
       "    }\n",
       "\n",
       "    .dataframe tbody tr th {\n",
       "        vertical-align: top;\n",
       "    }\n",
       "\n",
       "    .dataframe thead th {\n",
       "        text-align: right;\n",
       "    }\n",
       "</style>\n",
       "<table border=\"1\" class=\"dataframe\">\n",
       "  <thead>\n",
       "    <tr style=\"text-align: right;\">\n",
       "      <th></th>\n",
       "      <th>energy</th>\n",
       "      <th>liveness</th>\n",
       "      <th>speechiness</th>\n",
       "      <th>acousticness</th>\n",
       "      <th>instrumentalness</th>\n",
       "      <th>time_signature</th>\n",
       "      <th>danceability</th>\n",
       "      <th>loudness</th>\n",
       "      <th>valence</th>\n",
       "      <th>key</th>\n",
       "      <th>mode</th>\n",
       "      <th>tempo</th>\n",
       "      <th>duration_ms</th>\n",
       "      <th>Dopamine</th>\n",
       "    </tr>\n",
       "    <tr>\n",
       "      <th>music_name</th>\n",
       "      <th></th>\n",
       "      <th></th>\n",
       "      <th></th>\n",
       "      <th></th>\n",
       "      <th></th>\n",
       "      <th></th>\n",
       "      <th></th>\n",
       "      <th></th>\n",
       "      <th></th>\n",
       "      <th></th>\n",
       "      <th></th>\n",
       "      <th></th>\n",
       "      <th></th>\n",
       "      <th></th>\n",
       "    </tr>\n",
       "  </thead>\n",
       "  <tbody>\n",
       "    <tr>\n",
       "      <th>Al Compás De Mi Caballo</th>\n",
       "      <td>0.576</td>\n",
       "      <td>0.0421</td>\n",
       "      <td>0.1460</td>\n",
       "      <td>0.70200</td>\n",
       "      <td>0.000254</td>\n",
       "      <td>4</td>\n",
       "      <td>0.549</td>\n",
       "      <td>-8.757</td>\n",
       "      <td>0.969</td>\n",
       "      <td>11</td>\n",
       "      <td>0</td>\n",
       "      <td>205.522</td>\n",
       "      <td>205485</td>\n",
       "      <td>1</td>\n",
       "    </tr>\n",
       "    <tr>\n",
       "      <th>Pollos Hermanos Veneno</th>\n",
       "      <td>0.441</td>\n",
       "      <td>0.3010</td>\n",
       "      <td>0.0724</td>\n",
       "      <td>0.52700</td>\n",
       "      <td>0.017900</td>\n",
       "      <td>4</td>\n",
       "      <td>0.690</td>\n",
       "      <td>-10.345</td>\n",
       "      <td>0.818</td>\n",
       "      <td>9</td>\n",
       "      <td>0</td>\n",
       "      <td>170.048</td>\n",
       "      <td>144240</td>\n",
       "      <td>1</td>\n",
       "    </tr>\n",
       "    <tr>\n",
       "      <th>Mi Dulce Sueño</th>\n",
       "      <td>0.488</td>\n",
       "      <td>0.2220</td>\n",
       "      <td>0.2930</td>\n",
       "      <td>0.61200</td>\n",
       "      <td>0.000000</td>\n",
       "      <td>4</td>\n",
       "      <td>0.628</td>\n",
       "      <td>-10.050</td>\n",
       "      <td>0.959</td>\n",
       "      <td>8</td>\n",
       "      <td>1</td>\n",
       "      <td>103.778</td>\n",
       "      <td>286883</td>\n",
       "      <td>1</td>\n",
       "    </tr>\n",
       "    <tr>\n",
       "      <th>La Pelea Con el Diablo</th>\n",
       "      <td>0.912</td>\n",
       "      <td>0.0603</td>\n",
       "      <td>0.0566</td>\n",
       "      <td>0.13400</td>\n",
       "      <td>0.001960</td>\n",
       "      <td>4</td>\n",
       "      <td>0.793</td>\n",
       "      <td>-6.772</td>\n",
       "      <td>0.920</td>\n",
       "      <td>2</td>\n",
       "      <td>1</td>\n",
       "      <td>85.125</td>\n",
       "      <td>168516</td>\n",
       "      <td>1</td>\n",
       "    </tr>\n",
       "    <tr>\n",
       "      <th>El Cucuy</th>\n",
       "      <td>0.712</td>\n",
       "      <td>0.2440</td>\n",
       "      <td>0.3070</td>\n",
       "      <td>0.56900</td>\n",
       "      <td>0.000000</td>\n",
       "      <td>4</td>\n",
       "      <td>0.599</td>\n",
       "      <td>-5.032</td>\n",
       "      <td>0.960</td>\n",
       "      <td>4</td>\n",
       "      <td>1</td>\n",
       "      <td>184.133</td>\n",
       "      <td>158256</td>\n",
       "      <td>1</td>\n",
       "    </tr>\n",
       "    <tr>\n",
       "      <th>...</th>\n",
       "      <td>...</td>\n",
       "      <td>...</td>\n",
       "      <td>...</td>\n",
       "      <td>...</td>\n",
       "      <td>...</td>\n",
       "      <td>...</td>\n",
       "      <td>...</td>\n",
       "      <td>...</td>\n",
       "      <td>...</td>\n",
       "      <td>...</td>\n",
       "      <td>...</td>\n",
       "      <td>...</td>\n",
       "      <td>...</td>\n",
       "      <td>...</td>\n",
       "    </tr>\n",
       "    <tr>\n",
       "      <th>YUM YUM</th>\n",
       "      <td>0.904</td>\n",
       "      <td>0.0807</td>\n",
       "      <td>0.3430</td>\n",
       "      <td>0.31600</td>\n",
       "      <td>0.023900</td>\n",
       "      <td>4</td>\n",
       "      <td>0.769</td>\n",
       "      <td>-1.545</td>\n",
       "      <td>0.155</td>\n",
       "      <td>1</td>\n",
       "      <td>1</td>\n",
       "      <td>130.059</td>\n",
       "      <td>129697</td>\n",
       "      <td>1</td>\n",
       "    </tr>\n",
       "    <tr>\n",
       "      <th>THE AUTOTREM 1.0</th>\n",
       "      <td>0.934</td>\n",
       "      <td>0.1990</td>\n",
       "      <td>0.3120</td>\n",
       "      <td>0.10600</td>\n",
       "      <td>0.000000</td>\n",
       "      <td>4</td>\n",
       "      <td>0.713</td>\n",
       "      <td>0.057</td>\n",
       "      <td>0.527</td>\n",
       "      <td>1</td>\n",
       "      <td>1</td>\n",
       "      <td>129.912</td>\n",
       "      <td>149107</td>\n",
       "      <td>1</td>\n",
       "    </tr>\n",
       "    <tr>\n",
       "      <th>YUMMI</th>\n",
       "      <td>0.810</td>\n",
       "      <td>0.1670</td>\n",
       "      <td>0.0497</td>\n",
       "      <td>0.65300</td>\n",
       "      <td>0.472000</td>\n",
       "      <td>4</td>\n",
       "      <td>0.752</td>\n",
       "      <td>-2.684</td>\n",
       "      <td>0.553</td>\n",
       "      <td>5</td>\n",
       "      <td>1</td>\n",
       "      <td>130.109</td>\n",
       "      <td>96279</td>\n",
       "      <td>1</td>\n",
       "    </tr>\n",
       "    <tr>\n",
       "      <th>Life in Rio</th>\n",
       "      <td>0.971</td>\n",
       "      <td>0.4460</td>\n",
       "      <td>0.0408</td>\n",
       "      <td>0.00393</td>\n",
       "      <td>0.275000</td>\n",
       "      <td>4</td>\n",
       "      <td>0.726</td>\n",
       "      <td>-2.126</td>\n",
       "      <td>0.700</td>\n",
       "      <td>2</td>\n",
       "      <td>1</td>\n",
       "      <td>129.081</td>\n",
       "      <td>94419</td>\n",
       "      <td>1</td>\n",
       "    </tr>\n",
       "    <tr>\n",
       "      <th>AUTOMOTIVO ANGELICAL V4</th>\n",
       "      <td>0.967</td>\n",
       "      <td>0.3000</td>\n",
       "      <td>0.3680</td>\n",
       "      <td>0.66200</td>\n",
       "      <td>0.000005</td>\n",
       "      <td>4</td>\n",
       "      <td>0.560</td>\n",
       "      <td>-0.953</td>\n",
       "      <td>0.402</td>\n",
       "      <td>1</td>\n",
       "      <td>1</td>\n",
       "      <td>130.184</td>\n",
       "      <td>153240</td>\n",
       "      <td>1</td>\n",
       "    </tr>\n",
       "  </tbody>\n",
       "</table>\n",
       "<p>63 rows × 14 columns</p>\n",
       "</div>"
      ],
      "text/plain": [
       "                         energy  liveness  speechiness  acousticness  \\\n",
       "music_name                                                             \n",
       "Al Compás De Mi Caballo   0.576    0.0421       0.1460       0.70200   \n",
       "Pollos Hermanos Veneno    0.441    0.3010       0.0724       0.52700   \n",
       "Mi Dulce Sueño            0.488    0.2220       0.2930       0.61200   \n",
       "La Pelea Con el Diablo    0.912    0.0603       0.0566       0.13400   \n",
       "El Cucuy                  0.712    0.2440       0.3070       0.56900   \n",
       "...                         ...       ...          ...           ...   \n",
       "YUM YUM                   0.904    0.0807       0.3430       0.31600   \n",
       "THE AUTOTREM 1.0          0.934    0.1990       0.3120       0.10600   \n",
       "YUMMI                     0.810    0.1670       0.0497       0.65300   \n",
       "Life in Rio               0.971    0.4460       0.0408       0.00393   \n",
       "AUTOMOTIVO ANGELICAL V4   0.967    0.3000       0.3680       0.66200   \n",
       "\n",
       "                         instrumentalness  time_signature  danceability  \\\n",
       "music_name                                                                \n",
       "Al Compás De Mi Caballo          0.000254               4         0.549   \n",
       "Pollos Hermanos Veneno           0.017900               4         0.690   \n",
       "Mi Dulce Sueño                   0.000000               4         0.628   \n",
       "La Pelea Con el Diablo           0.001960               4         0.793   \n",
       "El Cucuy                         0.000000               4         0.599   \n",
       "...                                   ...             ...           ...   \n",
       "YUM YUM                          0.023900               4         0.769   \n",
       "THE AUTOTREM 1.0                 0.000000               4         0.713   \n",
       "YUMMI                            0.472000               4         0.752   \n",
       "Life in Rio                      0.275000               4         0.726   \n",
       "AUTOMOTIVO ANGELICAL V4          0.000005               4         0.560   \n",
       "\n",
       "                         loudness  valence  key  mode    tempo  duration_ms  \\\n",
       "music_name                                                                    \n",
       "Al Compás De Mi Caballo    -8.757    0.969   11     0  205.522       205485   \n",
       "Pollos Hermanos Veneno    -10.345    0.818    9     0  170.048       144240   \n",
       "Mi Dulce Sueño            -10.050    0.959    8     1  103.778       286883   \n",
       "La Pelea Con el Diablo     -6.772    0.920    2     1   85.125       168516   \n",
       "El Cucuy                   -5.032    0.960    4     1  184.133       158256   \n",
       "...                           ...      ...  ...   ...      ...          ...   \n",
       "YUM YUM                    -1.545    0.155    1     1  130.059       129697   \n",
       "THE AUTOTREM 1.0            0.057    0.527    1     1  129.912       149107   \n",
       "YUMMI                      -2.684    0.553    5     1  130.109        96279   \n",
       "Life in Rio                -2.126    0.700    2     1  129.081        94419   \n",
       "AUTOMOTIVO ANGELICAL V4    -0.953    0.402    1     1  130.184       153240   \n",
       "\n",
       "                         Dopamine  \n",
       "music_name                         \n",
       "Al Compás De Mi Caballo         1  \n",
       "Pollos Hermanos Veneno          1  \n",
       "Mi Dulce Sueño                  1  \n",
       "La Pelea Con el Diablo          1  \n",
       "El Cucuy                        1  \n",
       "...                           ...  \n",
       "YUM YUM                         1  \n",
       "THE AUTOTREM 1.0                1  \n",
       "YUMMI                           1  \n",
       "Life in Rio                     1  \n",
       "AUTOMOTIVO ANGELICAL V4         1  \n",
       "\n",
       "[63 rows x 14 columns]"
      ]
     },
     "execution_count": 8,
     "metadata": {},
     "output_type": "execute_result"
    }
   ],
   "source": [
    "def get_numeric_columns(df):\n",
    "    return df[(df.dtypes != 'object')[(df.dtypes != 'object')].index]\n",
    "\n",
    "linear_features = features[(features.dtypes != 'object')[(features.dtypes != 'object')].index]\n",
    "\n",
    "liked_musics_numeric = get_numeric_columns(liked_musics.set_index('music_name'))\n",
    "\n",
    "dopamine_flux_numeric = get_numeric_columns(dopamine_flux.set_index('music_name'))\n",
    "one_music_numeric = get_numeric_columns(one_music.set_index('music_name'))\n",
    "calm_trap_numeric = get_numeric_columns(calm_trap.set_index('music_name'))\n",
    "dopamine_flux_focus_numeric = get_numeric_columns(dopamine_flux_focus.set_index('music_name'))\n",
    "indie_musics_numeric = get_numeric_columns(indie_musics.set_index('music_name'))\n",
    "phonk_numeric = get_numeric_columns(phonk.set_index('music_name'))"
   ]
  },
  {
   "cell_type": "code",
   "execution_count": 18,
   "metadata": {},
   "outputs": [
    {
     "data": {
      "application/vnd.plotly.v1+json": {
       "config": {
        "plotlyServerURL": "https://plot.ly"
       },
       "data": [
        {
         "alignmentgroup": "True",
         "hovertemplate": "variable=ratio %<br>index=%{x}<br>value=%{y}<extra></extra>",
         "legendgroup": "ratio %",
         "marker": {
          "color": "#636efa",
          "pattern": {
           "shape": ""
          }
         },
         "name": "ratio %",
         "offsetgroup": "ratio %",
         "orientation": "v",
         "showlegend": true,
         "textposition": "auto",
         "type": "bar",
         "x": [
          "energy",
          "liveness",
          "speechiness",
          "acousticness",
          "time_signature",
          "danceability",
          "loudness",
          "valence",
          "key",
          "mode",
          "tempo",
          "duration_ms"
         ],
         "xaxis": "x",
         "y": [
          -4.07273361884821,
          -6.7139343417698285,
          -21.52009506443757,
          108.29804551886626,
          -0.18259281801582622,
          -8.047495303903409,
          15.068965317468086,
          59.84733605223316,
          8.111755972465929,
          -5.0868486352357305,
          -7.061654538401803,
          -8.603202743528987
         ],
         "yaxis": "y"
        }
       ],
       "layout": {
        "barmode": "relative",
        "legend": {
         "title": {
          "text": "variable"
         },
         "tracegroupgap": 0
        },
        "margin": {
         "t": 60
        },
        "template": {
         "data": {
          "bar": [
           {
            "error_x": {
             "color": "#f2f5fa"
            },
            "error_y": {
             "color": "#f2f5fa"
            },
            "marker": {
             "line": {
              "color": "rgb(17,17,17)",
              "width": 0.5
             },
             "pattern": {
              "fillmode": "overlay",
              "size": 10,
              "solidity": 0.2
             }
            },
            "type": "bar"
           }
          ],
          "barpolar": [
           {
            "marker": {
             "line": {
              "color": "rgb(17,17,17)",
              "width": 0.5
             },
             "pattern": {
              "fillmode": "overlay",
              "size": 10,
              "solidity": 0.2
             }
            },
            "type": "barpolar"
           }
          ],
          "carpet": [
           {
            "aaxis": {
             "endlinecolor": "#A2B1C6",
             "gridcolor": "#506784",
             "linecolor": "#506784",
             "minorgridcolor": "#506784",
             "startlinecolor": "#A2B1C6"
            },
            "baxis": {
             "endlinecolor": "#A2B1C6",
             "gridcolor": "#506784",
             "linecolor": "#506784",
             "minorgridcolor": "#506784",
             "startlinecolor": "#A2B1C6"
            },
            "type": "carpet"
           }
          ],
          "choropleth": [
           {
            "colorbar": {
             "outlinewidth": 0,
             "ticks": ""
            },
            "type": "choropleth"
           }
          ],
          "contour": [
           {
            "colorbar": {
             "outlinewidth": 0,
             "ticks": ""
            },
            "colorscale": [
             [
              0,
              "#0d0887"
             ],
             [
              0.1111111111111111,
              "#46039f"
             ],
             [
              0.2222222222222222,
              "#7201a8"
             ],
             [
              0.3333333333333333,
              "#9c179e"
             ],
             [
              0.4444444444444444,
              "#bd3786"
             ],
             [
              0.5555555555555556,
              "#d8576b"
             ],
             [
              0.6666666666666666,
              "#ed7953"
             ],
             [
              0.7777777777777778,
              "#fb9f3a"
             ],
             [
              0.8888888888888888,
              "#fdca26"
             ],
             [
              1,
              "#f0f921"
             ]
            ],
            "type": "contour"
           }
          ],
          "contourcarpet": [
           {
            "colorbar": {
             "outlinewidth": 0,
             "ticks": ""
            },
            "type": "contourcarpet"
           }
          ],
          "heatmap": [
           {
            "colorbar": {
             "outlinewidth": 0,
             "ticks": ""
            },
            "colorscale": [
             [
              0,
              "#0d0887"
             ],
             [
              0.1111111111111111,
              "#46039f"
             ],
             [
              0.2222222222222222,
              "#7201a8"
             ],
             [
              0.3333333333333333,
              "#9c179e"
             ],
             [
              0.4444444444444444,
              "#bd3786"
             ],
             [
              0.5555555555555556,
              "#d8576b"
             ],
             [
              0.6666666666666666,
              "#ed7953"
             ],
             [
              0.7777777777777778,
              "#fb9f3a"
             ],
             [
              0.8888888888888888,
              "#fdca26"
             ],
             [
              1,
              "#f0f921"
             ]
            ],
            "type": "heatmap"
           }
          ],
          "heatmapgl": [
           {
            "colorbar": {
             "outlinewidth": 0,
             "ticks": ""
            },
            "colorscale": [
             [
              0,
              "#0d0887"
             ],
             [
              0.1111111111111111,
              "#46039f"
             ],
             [
              0.2222222222222222,
              "#7201a8"
             ],
             [
              0.3333333333333333,
              "#9c179e"
             ],
             [
              0.4444444444444444,
              "#bd3786"
             ],
             [
              0.5555555555555556,
              "#d8576b"
             ],
             [
              0.6666666666666666,
              "#ed7953"
             ],
             [
              0.7777777777777778,
              "#fb9f3a"
             ],
             [
              0.8888888888888888,
              "#fdca26"
             ],
             [
              1,
              "#f0f921"
             ]
            ],
            "type": "heatmapgl"
           }
          ],
          "histogram": [
           {
            "marker": {
             "pattern": {
              "fillmode": "overlay",
              "size": 10,
              "solidity": 0.2
             }
            },
            "type": "histogram"
           }
          ],
          "histogram2d": [
           {
            "colorbar": {
             "outlinewidth": 0,
             "ticks": ""
            },
            "colorscale": [
             [
              0,
              "#0d0887"
             ],
             [
              0.1111111111111111,
              "#46039f"
             ],
             [
              0.2222222222222222,
              "#7201a8"
             ],
             [
              0.3333333333333333,
              "#9c179e"
             ],
             [
              0.4444444444444444,
              "#bd3786"
             ],
             [
              0.5555555555555556,
              "#d8576b"
             ],
             [
              0.6666666666666666,
              "#ed7953"
             ],
             [
              0.7777777777777778,
              "#fb9f3a"
             ],
             [
              0.8888888888888888,
              "#fdca26"
             ],
             [
              1,
              "#f0f921"
             ]
            ],
            "type": "histogram2d"
           }
          ],
          "histogram2dcontour": [
           {
            "colorbar": {
             "outlinewidth": 0,
             "ticks": ""
            },
            "colorscale": [
             [
              0,
              "#0d0887"
             ],
             [
              0.1111111111111111,
              "#46039f"
             ],
             [
              0.2222222222222222,
              "#7201a8"
             ],
             [
              0.3333333333333333,
              "#9c179e"
             ],
             [
              0.4444444444444444,
              "#bd3786"
             ],
             [
              0.5555555555555556,
              "#d8576b"
             ],
             [
              0.6666666666666666,
              "#ed7953"
             ],
             [
              0.7777777777777778,
              "#fb9f3a"
             ],
             [
              0.8888888888888888,
              "#fdca26"
             ],
             [
              1,
              "#f0f921"
             ]
            ],
            "type": "histogram2dcontour"
           }
          ],
          "mesh3d": [
           {
            "colorbar": {
             "outlinewidth": 0,
             "ticks": ""
            },
            "type": "mesh3d"
           }
          ],
          "parcoords": [
           {
            "line": {
             "colorbar": {
              "outlinewidth": 0,
              "ticks": ""
             }
            },
            "type": "parcoords"
           }
          ],
          "pie": [
           {
            "automargin": true,
            "type": "pie"
           }
          ],
          "scatter": [
           {
            "marker": {
             "line": {
              "color": "#283442"
             }
            },
            "type": "scatter"
           }
          ],
          "scatter3d": [
           {
            "line": {
             "colorbar": {
              "outlinewidth": 0,
              "ticks": ""
             }
            },
            "marker": {
             "colorbar": {
              "outlinewidth": 0,
              "ticks": ""
             }
            },
            "type": "scatter3d"
           }
          ],
          "scattercarpet": [
           {
            "marker": {
             "colorbar": {
              "outlinewidth": 0,
              "ticks": ""
             }
            },
            "type": "scattercarpet"
           }
          ],
          "scattergeo": [
           {
            "marker": {
             "colorbar": {
              "outlinewidth": 0,
              "ticks": ""
             }
            },
            "type": "scattergeo"
           }
          ],
          "scattergl": [
           {
            "marker": {
             "line": {
              "color": "#283442"
             }
            },
            "type": "scattergl"
           }
          ],
          "scattermapbox": [
           {
            "marker": {
             "colorbar": {
              "outlinewidth": 0,
              "ticks": ""
             }
            },
            "type": "scattermapbox"
           }
          ],
          "scatterpolar": [
           {
            "marker": {
             "colorbar": {
              "outlinewidth": 0,
              "ticks": ""
             }
            },
            "type": "scatterpolar"
           }
          ],
          "scatterpolargl": [
           {
            "marker": {
             "colorbar": {
              "outlinewidth": 0,
              "ticks": ""
             }
            },
            "type": "scatterpolargl"
           }
          ],
          "scatterternary": [
           {
            "marker": {
             "colorbar": {
              "outlinewidth": 0,
              "ticks": ""
             }
            },
            "type": "scatterternary"
           }
          ],
          "surface": [
           {
            "colorbar": {
             "outlinewidth": 0,
             "ticks": ""
            },
            "colorscale": [
             [
              0,
              "#0d0887"
             ],
             [
              0.1111111111111111,
              "#46039f"
             ],
             [
              0.2222222222222222,
              "#7201a8"
             ],
             [
              0.3333333333333333,
              "#9c179e"
             ],
             [
              0.4444444444444444,
              "#bd3786"
             ],
             [
              0.5555555555555556,
              "#d8576b"
             ],
             [
              0.6666666666666666,
              "#ed7953"
             ],
             [
              0.7777777777777778,
              "#fb9f3a"
             ],
             [
              0.8888888888888888,
              "#fdca26"
             ],
             [
              1,
              "#f0f921"
             ]
            ],
            "type": "surface"
           }
          ],
          "table": [
           {
            "cells": {
             "fill": {
              "color": "#506784"
             },
             "line": {
              "color": "rgb(17,17,17)"
             }
            },
            "header": {
             "fill": {
              "color": "#2a3f5f"
             },
             "line": {
              "color": "rgb(17,17,17)"
             }
            },
            "type": "table"
           }
          ]
         },
         "layout": {
          "annotationdefaults": {
           "arrowcolor": "#f2f5fa",
           "arrowhead": 0,
           "arrowwidth": 1
          },
          "autotypenumbers": "strict",
          "coloraxis": {
           "colorbar": {
            "outlinewidth": 0,
            "ticks": ""
           }
          },
          "colorscale": {
           "diverging": [
            [
             0,
             "#8e0152"
            ],
            [
             0.1,
             "#c51b7d"
            ],
            [
             0.2,
             "#de77ae"
            ],
            [
             0.3,
             "#f1b6da"
            ],
            [
             0.4,
             "#fde0ef"
            ],
            [
             0.5,
             "#f7f7f7"
            ],
            [
             0.6,
             "#e6f5d0"
            ],
            [
             0.7,
             "#b8e186"
            ],
            [
             0.8,
             "#7fbc41"
            ],
            [
             0.9,
             "#4d9221"
            ],
            [
             1,
             "#276419"
            ]
           ],
           "sequential": [
            [
             0,
             "#0d0887"
            ],
            [
             0.1111111111111111,
             "#46039f"
            ],
            [
             0.2222222222222222,
             "#7201a8"
            ],
            [
             0.3333333333333333,
             "#9c179e"
            ],
            [
             0.4444444444444444,
             "#bd3786"
            ],
            [
             0.5555555555555556,
             "#d8576b"
            ],
            [
             0.6666666666666666,
             "#ed7953"
            ],
            [
             0.7777777777777778,
             "#fb9f3a"
            ],
            [
             0.8888888888888888,
             "#fdca26"
            ],
            [
             1,
             "#f0f921"
            ]
           ],
           "sequentialminus": [
            [
             0,
             "#0d0887"
            ],
            [
             0.1111111111111111,
             "#46039f"
            ],
            [
             0.2222222222222222,
             "#7201a8"
            ],
            [
             0.3333333333333333,
             "#9c179e"
            ],
            [
             0.4444444444444444,
             "#bd3786"
            ],
            [
             0.5555555555555556,
             "#d8576b"
            ],
            [
             0.6666666666666666,
             "#ed7953"
            ],
            [
             0.7777777777777778,
             "#fb9f3a"
            ],
            [
             0.8888888888888888,
             "#fdca26"
            ],
            [
             1,
             "#f0f921"
            ]
           ]
          },
          "colorway": [
           "#636efa",
           "#EF553B",
           "#00cc96",
           "#ab63fa",
           "#FFA15A",
           "#19d3f3",
           "#FF6692",
           "#B6E880",
           "#FF97FF",
           "#FECB52"
          ],
          "font": {
           "color": "#f2f5fa"
          },
          "geo": {
           "bgcolor": "rgb(17,17,17)",
           "lakecolor": "rgb(17,17,17)",
           "landcolor": "rgb(17,17,17)",
           "showlakes": true,
           "showland": true,
           "subunitcolor": "#506784"
          },
          "hoverlabel": {
           "align": "left"
          },
          "hovermode": "closest",
          "mapbox": {
           "style": "dark"
          },
          "paper_bgcolor": "rgb(17,17,17)",
          "plot_bgcolor": "rgb(17,17,17)",
          "polar": {
           "angularaxis": {
            "gridcolor": "#506784",
            "linecolor": "#506784",
            "ticks": ""
           },
           "bgcolor": "rgb(17,17,17)",
           "radialaxis": {
            "gridcolor": "#506784",
            "linecolor": "#506784",
            "ticks": ""
           }
          },
          "scene": {
           "xaxis": {
            "backgroundcolor": "rgb(17,17,17)",
            "gridcolor": "#506784",
            "gridwidth": 2,
            "linecolor": "#506784",
            "showbackground": true,
            "ticks": "",
            "zerolinecolor": "#C8D4E3"
           },
           "yaxis": {
            "backgroundcolor": "rgb(17,17,17)",
            "gridcolor": "#506784",
            "gridwidth": 2,
            "linecolor": "#506784",
            "showbackground": true,
            "ticks": "",
            "zerolinecolor": "#C8D4E3"
           },
           "zaxis": {
            "backgroundcolor": "rgb(17,17,17)",
            "gridcolor": "#506784",
            "gridwidth": 2,
            "linecolor": "#506784",
            "showbackground": true,
            "ticks": "",
            "zerolinecolor": "#C8D4E3"
           }
          },
          "shapedefaults": {
           "line": {
            "color": "#f2f5fa"
           }
          },
          "sliderdefaults": {
           "bgcolor": "#C8D4E3",
           "bordercolor": "rgb(17,17,17)",
           "borderwidth": 1,
           "tickwidth": 0
          },
          "ternary": {
           "aaxis": {
            "gridcolor": "#506784",
            "linecolor": "#506784",
            "ticks": ""
           },
           "baxis": {
            "gridcolor": "#506784",
            "linecolor": "#506784",
            "ticks": ""
           },
           "bgcolor": "rgb(17,17,17)",
           "caxis": {
            "gridcolor": "#506784",
            "linecolor": "#506784",
            "ticks": ""
           }
          },
          "title": {
           "x": 0.05
          },
          "updatemenudefaults": {
           "bgcolor": "#506784",
           "borderwidth": 0
          },
          "xaxis": {
           "automargin": true,
           "gridcolor": "#283442",
           "linecolor": "#506784",
           "ticks": "",
           "title": {
            "standoff": 15
           },
           "zerolinecolor": "#283442",
           "zerolinewidth": 2
          },
          "yaxis": {
           "automargin": true,
           "gridcolor": "#283442",
           "linecolor": "#506784",
           "ticks": "",
           "title": {
            "standoff": 15
           },
           "zerolinecolor": "#283442",
           "zerolinewidth": 2
          }
         }
        },
        "xaxis": {
         "anchor": "y",
         "domain": [
          0,
          1
         ],
         "title": {
          "text": "index"
         }
        },
        "yaxis": {
         "anchor": "x",
         "domain": [
          0,
          1
         ],
         "title": {
          "text": "value"
         }
        }
       }
      }
     },
     "metadata": {},
     "output_type": "display_data"
    }
   ],
   "source": [
    "import plotly.express as px\n",
    "\n",
    "def plot_ratio_diff(last_liked_music, liked_musics):\n",
    "    f1 = pd.concat([liked_musics.mean().rename('liked_musics'), last_liked_music.mean().rename('last_liked_music')], axis=1)\n",
    "    f1 = f1.drop(['instrumentalness'])\n",
    "    f1['diff'] = f1['last_liked_music'] - f1['liked_musics']\n",
    "    f1['ratio %'] = (f1['last_liked_music'] - f1['liked_musics']) / f1['liked_musics'] * 100\n",
    "    return px.bar(f1, y=['ratio %'], template='plotly_dark')\n",
    "\n",
    "def liked_diff(last_liked_music, liked_musics):\n",
    "    f1 = pd.concat([liked_musics.mean().rename('liked_musics'), last_liked_music.mean().rename('last_liked_music')], axis=1)\n",
    "    f1 = f1.drop(['instrumentalness'])\n",
    "    f1['diff'] = f1['last_liked_music'] - f1['liked_musics']\n",
    "    f1['ratio %'] = (f1['last_liked_music'] - f1['liked_musics']) / f1['liked_musics'] * 100\n",
    "    return f1\n",
    "\n",
    "plot_ratio_diff(dopamine_flux_numeric, liked_musics_numeric)"
   ]
  },
  {
   "cell_type": "code",
   "execution_count": 17,
   "metadata": {},
   "outputs": [
    {
     "data": {
      "text/html": [
       "<div>\n",
       "<style scoped>\n",
       "    .dataframe tbody tr th:only-of-type {\n",
       "        vertical-align: middle;\n",
       "    }\n",
       "\n",
       "    .dataframe tbody tr th {\n",
       "        vertical-align: top;\n",
       "    }\n",
       "\n",
       "    .dataframe thead th {\n",
       "        text-align: right;\n",
       "    }\n",
       "</style>\n",
       "<table border=\"1\" class=\"dataframe\">\n",
       "  <thead>\n",
       "    <tr style=\"text-align: right;\">\n",
       "      <th></th>\n",
       "      <th>liked_musics</th>\n",
       "      <th>last_liked_music</th>\n",
       "      <th>diff</th>\n",
       "      <th>ratio %</th>\n",
       "    </tr>\n",
       "  </thead>\n",
       "  <tbody>\n",
       "    <tr>\n",
       "      <th>energy</th>\n",
       "      <td>0.663372</td>\n",
       "      <td>0.54900</td>\n",
       "      <td>-0.114372</td>\n",
       "      <td>-17.241033</td>\n",
       "    </tr>\n",
       "    <tr>\n",
       "      <th>liveness</th>\n",
       "      <td>0.170879</td>\n",
       "      <td>0.09190</td>\n",
       "      <td>-0.078979</td>\n",
       "      <td>-46.219307</td>\n",
       "    </tr>\n",
       "    <tr>\n",
       "      <th>speechiness</th>\n",
       "      <td>0.134035</td>\n",
       "      <td>0.11895</td>\n",
       "      <td>-0.015085</td>\n",
       "      <td>-11.254339</td>\n",
       "    </tr>\n",
       "    <tr>\n",
       "      <th>acousticness</th>\n",
       "      <td>0.185113</td>\n",
       "      <td>0.26800</td>\n",
       "      <td>0.082887</td>\n",
       "      <td>44.776429</td>\n",
       "    </tr>\n",
       "    <tr>\n",
       "      <th>time_signature</th>\n",
       "      <td>3.975000</td>\n",
       "      <td>4.00000</td>\n",
       "      <td>0.025000</td>\n",
       "      <td>0.628931</td>\n",
       "    </tr>\n",
       "    <tr>\n",
       "      <th>danceability</th>\n",
       "      <td>0.765192</td>\n",
       "      <td>0.81750</td>\n",
       "      <td>0.052308</td>\n",
       "      <td>6.835978</td>\n",
       "    </tr>\n",
       "    <tr>\n",
       "      <th>loudness</th>\n",
       "      <td>-6.619789</td>\n",
       "      <td>-8.47150</td>\n",
       "      <td>-1.851711</td>\n",
       "      <td>27.972359</td>\n",
       "    </tr>\n",
       "    <tr>\n",
       "      <th>valence</th>\n",
       "      <td>0.534038</td>\n",
       "      <td>0.41300</td>\n",
       "      <td>-0.121038</td>\n",
       "      <td>-22.664647</td>\n",
       "    </tr>\n",
       "    <tr>\n",
       "      <th>key</th>\n",
       "      <td>5.311111</td>\n",
       "      <td>1.00000</td>\n",
       "      <td>-4.311111</td>\n",
       "      <td>-81.171548</td>\n",
       "    </tr>\n",
       "    <tr>\n",
       "      <th>mode</th>\n",
       "      <td>0.577778</td>\n",
       "      <td>1.00000</td>\n",
       "      <td>0.422222</td>\n",
       "      <td>73.076923</td>\n",
       "    </tr>\n",
       "    <tr>\n",
       "      <th>tempo</th>\n",
       "      <td>128.791036</td>\n",
       "      <td>113.97950</td>\n",
       "      <td>-14.811536</td>\n",
       "      <td>-11.500440</td>\n",
       "    </tr>\n",
       "    <tr>\n",
       "      <th>duration_ms</th>\n",
       "      <td>196676.758333</td>\n",
       "      <td>180606.00000</td>\n",
       "      <td>-16070.758333</td>\n",
       "      <td>-8.171153</td>\n",
       "    </tr>\n",
       "  </tbody>\n",
       "</table>\n",
       "</div>"
      ],
      "text/plain": [
       "                 liked_musics  last_liked_music          diff    ratio %\n",
       "energy               0.663372           0.54900     -0.114372 -17.241033\n",
       "liveness             0.170879           0.09190     -0.078979 -46.219307\n",
       "speechiness          0.134035           0.11895     -0.015085 -11.254339\n",
       "acousticness         0.185113           0.26800      0.082887  44.776429\n",
       "time_signature       3.975000           4.00000      0.025000   0.628931\n",
       "danceability         0.765192           0.81750      0.052308   6.835978\n",
       "loudness            -6.619789          -8.47150     -1.851711  27.972359\n",
       "valence              0.534038           0.41300     -0.121038 -22.664647\n",
       "key                  5.311111           1.00000     -4.311111 -81.171548\n",
       "mode                 0.577778           1.00000      0.422222  73.076923\n",
       "tempo              128.791036         113.97950    -14.811536 -11.500440\n",
       "duration_ms     196676.758333      180606.00000 -16070.758333  -8.171153"
      ]
     },
     "execution_count": 17,
     "metadata": {},
     "output_type": "execute_result"
    }
   ],
   "source": [
    "liked_diff(dopamine_flux_focus_numeric, liked_musics_numeric)"
   ]
  },
  {
   "cell_type": "markdown",
   "metadata": {},
   "source": [
    "Copilot Prompt:\n",
    "\n",
    "explain the difference between dopamine_flux_focus and liked_musics based on this dataframe:\n",
    "\n",
    "liked_musics\tlast_liked_music\tdiff\tratio %\n",
    "energy\t0.663372\t0.54900\t-0.114372\t-17.241033\n",
    "liveness\t0.170879\t0.09190\t-0.078979\t-46.219307\n",
    "speechiness\t0.134035\t0.11895\t-0.015085\t-11.254339\n",
    "acousticness\t0.185113\t0.26800\t0.082887\t44.776429\n",
    "time_signature\t3.975000\t4.00000\t0.025000\t0.628931\n",
    "danceability\t0.765192\t0.81750\t0.052308\t6.835978\n",
    "loudness\t-6.619789\t-8.47150\t-1.851711\t27.972359\n",
    "valence\t0.534038\t0.41300\t-0.121038\t-22.664647\n",
    "key\t5.311111\t1.00000\t-4.311111\t-81.171548\n",
    "mode\t0.577778\t1.00000\t0.422222\t73.076923\n",
    "tempo\t128.791036\t113.97950\t-14.811536\t-11.500440\n",
    "duration_ms\t196676.758333\t180606.00000\t-16070.758333\t-8.171153\n",
    "\n"
   ]
  },
  {
   "cell_type": "markdown",
   "metadata": {},
   "source": [
    "Copilot Answer\n",
    "\n",
    "Based on the provided dataframe, here are the differences between the dopamine_flux_focus and liked_musics playlists:\n",
    "\n",
    "1. energy: The liked_musics playlist has 17.24% less energy than the dopamine_flux_focus playlist.\n",
    "\n",
    "2. liveness: The liked_musics playlist has 46.22% less liveness than the dopamine_flux_focus playlist.\n",
    "\n",
    "3. speechiness: The liked_musics playlist has 11.25% less speechiness than the dopamine_flux_focus playlist.\n",
    "\n",
    "4. acousticness: The liked_musics playlist has 44.78% more acousticness than the dopamine_flux_focus playlist.\n",
    "\n",
    "5. time_signature: The liked_musics playlist has a 0.63% higher time signature than the dopamine_flux_focus playlist.\n",
    "\n",
    "6. danceability: The liked_musics playlist is 6.84% more danceable than the dopamine_flux_focus playlist.\n",
    "\n",
    "7. loudness: The liked_musics playlist is 27.97% louder than the dopamine_flux_focus playlist.\n",
    "\n",
    "8. valence: The liked_musics playlist has 22.66% less valence than the dopamine_flux_focus playlist.\n",
    "\n",
    "9. key: The liked_musics playlist has 81.17% less key than the dopamine_flux_focus playlist.\n",
    "\n",
    "10. mode: The liked_musics playlist has 73.08% more mode than the dopamine_flux_focus playlist.\n",
    "\n",
    "11. tempo: The liked_musics playlist has a 11.50% slower tempo than the dopamine_flux_focus playlist.\n",
    "\n",
    "12. duration_ms: The liked_musics playlist has tracks that are 8.17% shorter in duration than the dopamine_flux_focus playlist.\n",
    "\n",
    "These differences suggest that the liked_musics playlist tends to have more acoustic, danceable, and louder tracks with a higher mode and time signature, but less energy, liveness, speechiness, valence, key, tempo, and shorter duration than the dopamine_flux_focus playlist.\n",
    "\n"
   ]
  }
 ],
 "metadata": {
  "kernelspec": {
   "display_name": "Python 3",
   "language": "python",
   "name": "python3"
  },
  "language_info": {
   "codemirror_mode": {
    "name": "ipython",
    "version": 3
   },
   "file_extension": ".py",
   "mimetype": "text/x-python",
   "name": "python",
   "nbconvert_exporter": "python",
   "pygments_lexer": "ipython3",
   "version": "3.11.7"
  }
 },
 "nbformat": 4,
 "nbformat_minor": 2
}
